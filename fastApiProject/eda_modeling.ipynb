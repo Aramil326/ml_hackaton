{
 "cells": [
  {
   "cell_type": "code",
   "execution_count": null,
   "id": "229d4838",
   "metadata": {},
   "outputs": [],
   "source": []
  },
  {
   "cell_type": "code",
   "execution_count": 1,
   "id": "f77d27cc",
   "metadata": {},
   "outputs": [
    {
     "name": "stderr",
     "output_type": "stream",
     "text": [
      "<frozen importlib._bootstrap>:219: RuntimeWarning: scipy._lib.messagestream.MessageStream size changed, may indicate binary incompatibility. Expected 56 from C header, got 64 from PyObject\n",
      "/home/dm/anaconda3/lib/python3.8/site-packages/xgboost/compat.py:93: FutureWarning: pandas.Int64Index is deprecated and will be removed from pandas in a future version. Use pandas.Index with the appropriate dtype instead.\n",
      "  from pandas import MultiIndex, Int64Index\n",
      "/home/dm/anaconda3/lib/python3.8/site-packages/dask/dataframe/backends.py:181: FutureWarning: pandas.Int64Index is deprecated and will be removed from pandas in a future version. Use pandas.Index with the appropriate dtype instead.\n",
      "  _numeric_index_types = (pd.Int64Index, pd.Float64Index, pd.UInt64Index)\n",
      "/home/dm/anaconda3/lib/python3.8/site-packages/dask/dataframe/backends.py:181: FutureWarning: pandas.Float64Index is deprecated and will be removed from pandas in a future version. Use pandas.Index with the appropriate dtype instead.\n",
      "  _numeric_index_types = (pd.Int64Index, pd.Float64Index, pd.UInt64Index)\n",
      "/home/dm/anaconda3/lib/python3.8/site-packages/dask/dataframe/backends.py:181: FutureWarning: pandas.UInt64Index is deprecated and will be removed from pandas in a future version. Use pandas.Index with the appropriate dtype instead.\n",
      "  _numeric_index_types = (pd.Int64Index, pd.Float64Index, pd.UInt64Index)\n"
     ]
    }
   ],
   "source": [
    "import pandas as pd\n",
    "import numpy as np\n",
    "import os\n",
    "import random\n",
    "\n",
    "from sklearn.model_selection import train_test_split\n",
    "from sklearn.ensemble import RandomForestClassifier, RandomForestRegressor\n",
    "from sklearn.metrics import roc_auc_score, accuracy_score, precision_score, recall_score\n",
    "from sklearn.metrics import r2_score, mean_absolute_error, mean_squared_error, confusion_matrix\n",
    "\n",
    "from catboost import CatBoostClassifier, Pool, CatBoostRegressor\n",
    "\n",
    "from sklearn.linear_model import LinearRegression, Ridge, Lasso, LogisticRegression\n",
    "\n",
    "import matplotlib.pyplot as plt\n",
    "from sklearn.preprocessing import StandardScaler\n",
    "from sklearn.tree import  plot_tree\n",
    "import seaborn as sns"
   ]
  },
  {
   "cell_type": "code",
   "execution_count": 2,
   "id": "b3f89802",
   "metadata": {},
   "outputs": [],
   "source": [
    "appl = pd.read_csv(\"application.csv\")\n",
    "\n",
    "appl['BPsys'] = appl['BPsys/BPdia'].apply(lambda x: x.split('/')[0])\n",
    "appl['BPdia'] = appl['BPsys/BPdia'].apply(lambda x: x.split('/')[1])\n",
    "appl['BPdia'] = appl['BPdia'].astype(int)\n",
    "appl['BPsys'] = appl['BPsys'].astype(int)\n",
    "\n",
    "drop_cols = ['NAp', 'NHyp', 'AI', 'HI', 'AHI', 'BPsys/BPdia', 'ODI']\n",
    "\n",
    "appl = appl.drop(drop_cols, axis=1)"
   ]
  },
  {
   "cell_type": "code",
   "execution_count": null,
   "id": "b793cd6f",
   "metadata": {},
   "outputs": [],
   "source": []
  },
  {
   "cell_type": "code",
   "execution_count": 3,
   "id": "a2a92d6f",
   "metadata": {},
   "outputs": [
    {
     "data": {
      "text/html": [
       "<div>\n",
       "<style scoped>\n",
       "    .dataframe tbody tr th:only-of-type {\n",
       "        vertical-align: middle;\n",
       "    }\n",
       "\n",
       "    .dataframe tbody tr th {\n",
       "        vertical-align: top;\n",
       "    }\n",
       "\n",
       "    .dataframe thead th {\n",
       "        text-align: right;\n",
       "    }\n",
       "</style>\n",
       "<table border=\"1\" class=\"dataframe\">\n",
       "  <thead>\n",
       "    <tr style=\"text-align: right;\">\n",
       "      <th></th>\n",
       "      <th>Np</th>\n",
       "      <th>возраст, года</th>\n",
       "      <th>пол</th>\n",
       "      <th>рост, см</th>\n",
       "      <th>вес, кг</th>\n",
       "      <th>пульс</th>\n",
       "      <th>Nr</th>\n",
       "      <th>target</th>\n",
       "      <th>BPsys</th>\n",
       "      <th>BPdia</th>\n",
       "    </tr>\n",
       "  </thead>\n",
       "  <tbody>\n",
       "    <tr>\n",
       "      <th>0</th>\n",
       "      <td>1</td>\n",
       "      <td>51</td>\n",
       "      <td>M</td>\n",
       "      <td>164</td>\n",
       "      <td>60.0</td>\n",
       "      <td>80</td>\n",
       "      <td>1</td>\n",
       "      <td>0</td>\n",
       "      <td>95</td>\n",
       "      <td>60</td>\n",
       "    </tr>\n",
       "    <tr>\n",
       "      <th>1</th>\n",
       "      <td>1</td>\n",
       "      <td>51</td>\n",
       "      <td>M</td>\n",
       "      <td>164</td>\n",
       "      <td>60.0</td>\n",
       "      <td>80</td>\n",
       "      <td>2</td>\n",
       "      <td>0</td>\n",
       "      <td>95</td>\n",
       "      <td>60</td>\n",
       "    </tr>\n",
       "  </tbody>\n",
       "</table>\n",
       "</div>"
      ],
      "text/plain": [
       "   Np  возраст, года пол  рост, см  вес, кг  пульс  Nr  target  BPsys  BPdia\n",
       "0   1             51   M       164     60.0     80   1       0     95     60\n",
       "1   1             51   M       164     60.0     80   2       0     95     60"
      ]
     },
     "execution_count": 3,
     "metadata": {},
     "output_type": "execute_result"
    }
   ],
   "source": [
    "appl.head(2)"
   ]
  },
  {
   "cell_type": "code",
   "execution_count": 4,
   "id": "4fa7b8a3",
   "metadata": {},
   "outputs": [],
   "source": [
    "o2m1 = pd.read_csv(\"out_data2_del.csv\").rename(columns={\"index\": \"Np\"}).drop(\"Channel\", axis=1)\n",
    "o2m1 = o2m1.rename(columns={c: f\"o2m1_{c}\" for c in o2m1.columns if c not in ['Np', 'Nr']})\n",
    "\n",
    "o1m2 = pd.read_csv(\"out_data1_del.csv\").rename(columns={\"index\": \"Np\"}).drop(\"Channel\", axis=1)\n",
    "o1m2 = o1m2.rename(columns={c: f\"o1m2_{c}\" for c in o1m2.columns if c not in ['Np', 'Nr']})"
   ]
  },
  {
   "cell_type": "code",
   "execution_count": 5,
   "id": "c22a264d",
   "metadata": {},
   "outputs": [],
   "source": [
    "df = o2m1.merge(o1m2, on=['Np', 'Nr'], how='left')"
   ]
  },
  {
   "cell_type": "code",
   "execution_count": null,
   "id": "0f97fa8a",
   "metadata": {},
   "outputs": [],
   "source": []
  },
  {
   "cell_type": "code",
   "execution_count": 6,
   "id": "b33ef7f9",
   "metadata": {},
   "outputs": [],
   "source": [
    "# df = pd.read_csv(\"final_data.csv\").drop(\"Unnamed: 0\", axis=1).rename(columns={\"index\": \"Np\"})"
   ]
  },
  {
   "cell_type": "code",
   "execution_count": 7,
   "id": "8c3031f1",
   "metadata": {},
   "outputs": [
    {
     "data": {
      "text/html": [
       "<div>\n",
       "<style scoped>\n",
       "    .dataframe tbody tr th:only-of-type {\n",
       "        vertical-align: middle;\n",
       "    }\n",
       "\n",
       "    .dataframe tbody tr th {\n",
       "        vertical-align: top;\n",
       "    }\n",
       "\n",
       "    .dataframe thead th {\n",
       "        text-align: right;\n",
       "    }\n",
       "</style>\n",
       "<table border=\"1\" class=\"dataframe\">\n",
       "  <thead>\n",
       "    <tr style=\"text-align: right;\">\n",
       "      <th></th>\n",
       "      <th>Np</th>\n",
       "      <th>o2m1_value__maximum</th>\n",
       "      <th>o2m1_value__mean</th>\n",
       "      <th>o2m1_value__minimum</th>\n",
       "      <th>o2m1_value__median</th>\n",
       "      <th>o2m1_value__standard_deviation</th>\n",
       "      <th>o2m1_value__binned_entropy__max_bins_10</th>\n",
       "      <th>o2m1_value__count_above_mean</th>\n",
       "      <th>o2m1_value__count_below_mean</th>\n",
       "      <th>o2m1_value__first_location_of_maximum</th>\n",
       "      <th>...</th>\n",
       "      <th>o1m2_value__autocorrelation__lag_1</th>\n",
       "      <th>o1m2_value__quantile__q_0.25</th>\n",
       "      <th>o1m2_value__quantile__q_0.75</th>\n",
       "      <th>o1m2_value__longest_strike_below_mean</th>\n",
       "      <th>o1m2_value__longest_strike_above_mean</th>\n",
       "      <th>o1m2_value__percentage_of_reoccurring_values_to_all_values</th>\n",
       "      <th>o1m2_value__percentage_of_reoccurring_datapoints_to_all_datapoints</th>\n",
       "      <th>o1m2_value__sum_of_reoccurring_values</th>\n",
       "      <th>o1m2_value__sum_of_reoccurring_data_points</th>\n",
       "      <th>o1m2_value__number_peaks__n_5</th>\n",
       "    </tr>\n",
       "  </thead>\n",
       "  <tbody>\n",
       "    <tr>\n",
       "      <th>0</th>\n",
       "      <td>1</td>\n",
       "      <td>2766.0</td>\n",
       "      <td>0.171514</td>\n",
       "      <td>-3541.0</td>\n",
       "      <td>1.0</td>\n",
       "      <td>105.348221</td>\n",
       "      <td>0.078517</td>\n",
       "      <td>2900294.0</td>\n",
       "      <td>2880105.0</td>\n",
       "      <td>0.93721</td>\n",
       "      <td>...</td>\n",
       "      <td>0.959373</td>\n",
       "      <td>-27.0</td>\n",
       "      <td>27.0</td>\n",
       "      <td>716.0</td>\n",
       "      <td>2156.0</td>\n",
       "      <td>0.779427</td>\n",
       "      <td>0.999856</td>\n",
       "      <td>-272833.0</td>\n",
       "      <td>-3520418.0</td>\n",
       "      <td>293662.0</td>\n",
       "    </tr>\n",
       "    <tr>\n",
       "      <th>1</th>\n",
       "      <td>1</td>\n",
       "      <td>13555.0</td>\n",
       "      <td>0.971050</td>\n",
       "      <td>-3218.0</td>\n",
       "      <td>0.0</td>\n",
       "      <td>166.666430</td>\n",
       "      <td>0.082374</td>\n",
       "      <td>2628857.0</td>\n",
       "      <td>2705742.0</td>\n",
       "      <td>0.98276</td>\n",
       "      <td>...</td>\n",
       "      <td>0.989975</td>\n",
       "      <td>-29.0</td>\n",
       "      <td>30.0</td>\n",
       "      <td>1910.0</td>\n",
       "      <td>4112.0</td>\n",
       "      <td>0.680747</td>\n",
       "      <td>0.999779</td>\n",
       "      <td>-889891.0</td>\n",
       "      <td>-5511630.0</td>\n",
       "      <td>257911.0</td>\n",
       "    </tr>\n",
       "  </tbody>\n",
       "</table>\n",
       "<p>2 rows × 52 columns</p>\n",
       "</div>"
      ],
      "text/plain": [
       "   Np  o2m1_value__maximum  o2m1_value__mean  o2m1_value__minimum  \\\n",
       "0   1               2766.0          0.171514              -3541.0   \n",
       "1   1              13555.0          0.971050              -3218.0   \n",
       "\n",
       "   o2m1_value__median  o2m1_value__standard_deviation  \\\n",
       "0                 1.0                      105.348221   \n",
       "1                 0.0                      166.666430   \n",
       "\n",
       "   o2m1_value__binned_entropy__max_bins_10  o2m1_value__count_above_mean  \\\n",
       "0                                 0.078517                     2900294.0   \n",
       "1                                 0.082374                     2628857.0   \n",
       "\n",
       "   o2m1_value__count_below_mean  o2m1_value__first_location_of_maximum  ...  \\\n",
       "0                     2880105.0                                0.93721  ...   \n",
       "1                     2705742.0                                0.98276  ...   \n",
       "\n",
       "   o1m2_value__autocorrelation__lag_1  o1m2_value__quantile__q_0.25  \\\n",
       "0                            0.959373                         -27.0   \n",
       "1                            0.989975                         -29.0   \n",
       "\n",
       "   o1m2_value__quantile__q_0.75  o1m2_value__longest_strike_below_mean  \\\n",
       "0                          27.0                                  716.0   \n",
       "1                          30.0                                 1910.0   \n",
       "\n",
       "   o1m2_value__longest_strike_above_mean  \\\n",
       "0                                 2156.0   \n",
       "1                                 4112.0   \n",
       "\n",
       "   o1m2_value__percentage_of_reoccurring_values_to_all_values  \\\n",
       "0                                           0.779427            \n",
       "1                                           0.680747            \n",
       "\n",
       "   o1m2_value__percentage_of_reoccurring_datapoints_to_all_datapoints  \\\n",
       "0                                           0.999856                    \n",
       "1                                           0.999779                    \n",
       "\n",
       "   o1m2_value__sum_of_reoccurring_values  \\\n",
       "0                              -272833.0   \n",
       "1                              -889891.0   \n",
       "\n",
       "   o1m2_value__sum_of_reoccurring_data_points  o1m2_value__number_peaks__n_5  \n",
       "0                                  -3520418.0                       293662.0  \n",
       "1                                  -5511630.0                       257911.0  \n",
       "\n",
       "[2 rows x 52 columns]"
      ]
     },
     "execution_count": 7,
     "metadata": {},
     "output_type": "execute_result"
    }
   ],
   "source": [
    "df.head(2)"
   ]
  },
  {
   "cell_type": "code",
   "execution_count": 8,
   "id": "dc893940",
   "metadata": {},
   "outputs": [],
   "source": [
    "data = df.merge(appl, on=['Np', 'Nr'], how='left')\n",
    "# data = data[~data['target'].isna()]\n",
    "data['target'] = data['target'].astype(int)"
   ]
  },
  {
   "cell_type": "code",
   "execution_count": null,
   "id": "2f1a0733",
   "metadata": {},
   "outputs": [],
   "source": []
  },
  {
   "cell_type": "code",
   "execution_count": 9,
   "id": "f0f9ee51",
   "metadata": {},
   "outputs": [
    {
     "data": {
      "text/plain": [
       "0    42\n",
       "1    38\n",
       "Name: target, dtype: int64"
      ]
     },
     "execution_count": 9,
     "metadata": {},
     "output_type": "execute_result"
    }
   ],
   "source": [
    "data['target'].value_counts()"
   ]
  },
  {
   "cell_type": "code",
   "execution_count": 10,
   "id": "68791dbf",
   "metadata": {},
   "outputs": [],
   "source": [
    "cat_feat = data.select_dtypes(include=['object']).columns.tolist()"
   ]
  },
  {
   "cell_type": "code",
   "execution_count": 11,
   "id": "070dd122",
   "metadata": {},
   "outputs": [],
   "source": [
    "# group k fold?"
   ]
  },
  {
   "cell_type": "code",
   "execution_count": 12,
   "id": "d4295e7e",
   "metadata": {},
   "outputs": [
    {
     "data": {
      "text/plain": [
       "['Np',\n",
       " 'возраст, года',\n",
       " 'пол',\n",
       " 'рост, см',\n",
       " 'вес, кг',\n",
       " 'пульс',\n",
       " 'Nr',\n",
       " 'target',\n",
       " 'BPsys',\n",
       " 'BPdia']"
      ]
     },
     "execution_count": 12,
     "metadata": {},
     "output_type": "execute_result"
    }
   ],
   "source": [
    "appl.columns.tolist()"
   ]
  },
  {
   "cell_type": "markdown",
   "id": "1812763c",
   "metadata": {},
   "source": [
    "### Split data"
   ]
  },
  {
   "cell_type": "code",
   "execution_count": 13,
   "id": "1c090a2f",
   "metadata": {},
   "outputs": [],
   "source": [
    "def seed_everything(seed=7575):\n",
    "    random.seed(seed)\n",
    "    os.environ['PYTHONHASHSEED']=str(seed)\n",
    "    np.random.seed(seed)\n",
    "\n",
    "\n",
    "seed_everything()"
   ]
  },
  {
   "cell_type": "code",
   "execution_count": 14,
   "id": "4b150816",
   "metadata": {},
   "outputs": [],
   "source": [
    "drop_cols = ['Np',\n",
    " 'возраст, года',\n",
    " 'пол',\n",
    " 'рост, см',\n",
    " 'вес, кг',\n",
    " 'пульс',\n",
    " 'Nr',\n",
    " 'BPsys',\n",
    " 'BPdia']"
   ]
  },
  {
   "cell_type": "code",
   "execution_count": 15,
   "id": "ad69d40f",
   "metadata": {},
   "outputs": [
    {
     "data": {
      "text/plain": [
       "0    31\n",
       "1    29\n",
       "Name: target, dtype: int64"
      ]
     },
     "execution_count": 15,
     "metadata": {},
     "output_type": "execute_result"
    }
   ],
   "source": [
    "X_train, X_val, y_train, y_val = train_test_split(data.drop(['target']+drop_cols, axis=1), \n",
    "                                                  data['target'],\n",
    "                                                shuffle=True, random_state=7575)\n",
    "\n",
    "y_train.value_counts()"
   ]
  },
  {
   "cell_type": "markdown",
   "id": "2378019b",
   "metadata": {},
   "source": [
    "### LogReg"
   ]
  },
  {
   "cell_type": "code",
   "execution_count": 16,
   "id": "aa5ec20e",
   "metadata": {},
   "outputs": [],
   "source": [
    "sc = StandardScaler()\n",
    "\n",
    "X_train_sc = sc.fit_transform(X_train)\n",
    "X_val_sc = sc.fit_transform(X_val)"
   ]
  },
  {
   "cell_type": "code",
   "execution_count": 17,
   "id": "b67b0347",
   "metadata": {},
   "outputs": [
    {
     "data": {
      "text/html": [
       "<style>#sk-container-id-1 {color: black;background-color: white;}#sk-container-id-1 pre{padding: 0;}#sk-container-id-1 div.sk-toggleable {background-color: white;}#sk-container-id-1 label.sk-toggleable__label {cursor: pointer;display: block;width: 100%;margin-bottom: 0;padding: 0.3em;box-sizing: border-box;text-align: center;}#sk-container-id-1 label.sk-toggleable__label-arrow:before {content: \"▸\";float: left;margin-right: 0.25em;color: #696969;}#sk-container-id-1 label.sk-toggleable__label-arrow:hover:before {color: black;}#sk-container-id-1 div.sk-estimator:hover label.sk-toggleable__label-arrow:before {color: black;}#sk-container-id-1 div.sk-toggleable__content {max-height: 0;max-width: 0;overflow: hidden;text-align: left;background-color: #f0f8ff;}#sk-container-id-1 div.sk-toggleable__content pre {margin: 0.2em;color: black;border-radius: 0.25em;background-color: #f0f8ff;}#sk-container-id-1 input.sk-toggleable__control:checked~div.sk-toggleable__content {max-height: 200px;max-width: 100%;overflow: auto;}#sk-container-id-1 input.sk-toggleable__control:checked~label.sk-toggleable__label-arrow:before {content: \"▾\";}#sk-container-id-1 div.sk-estimator input.sk-toggleable__control:checked~label.sk-toggleable__label {background-color: #d4ebff;}#sk-container-id-1 div.sk-label input.sk-toggleable__control:checked~label.sk-toggleable__label {background-color: #d4ebff;}#sk-container-id-1 input.sk-hidden--visually {border: 0;clip: rect(1px 1px 1px 1px);clip: rect(1px, 1px, 1px, 1px);height: 1px;margin: -1px;overflow: hidden;padding: 0;position: absolute;width: 1px;}#sk-container-id-1 div.sk-estimator {font-family: monospace;background-color: #f0f8ff;border: 1px dotted black;border-radius: 0.25em;box-sizing: border-box;margin-bottom: 0.5em;}#sk-container-id-1 div.sk-estimator:hover {background-color: #d4ebff;}#sk-container-id-1 div.sk-parallel-item::after {content: \"\";width: 100%;border-bottom: 1px solid gray;flex-grow: 1;}#sk-container-id-1 div.sk-label:hover label.sk-toggleable__label {background-color: #d4ebff;}#sk-container-id-1 div.sk-serial::before {content: \"\";position: absolute;border-left: 1px solid gray;box-sizing: border-box;top: 0;bottom: 0;left: 50%;z-index: 0;}#sk-container-id-1 div.sk-serial {display: flex;flex-direction: column;align-items: center;background-color: white;padding-right: 0.2em;padding-left: 0.2em;position: relative;}#sk-container-id-1 div.sk-item {position: relative;z-index: 1;}#sk-container-id-1 div.sk-parallel {display: flex;align-items: stretch;justify-content: center;background-color: white;position: relative;}#sk-container-id-1 div.sk-item::before, #sk-container-id-1 div.sk-parallel-item::before {content: \"\";position: absolute;border-left: 1px solid gray;box-sizing: border-box;top: 0;bottom: 0;left: 50%;z-index: -1;}#sk-container-id-1 div.sk-parallel-item {display: flex;flex-direction: column;z-index: 1;position: relative;background-color: white;}#sk-container-id-1 div.sk-parallel-item:first-child::after {align-self: flex-end;width: 50%;}#sk-container-id-1 div.sk-parallel-item:last-child::after {align-self: flex-start;width: 50%;}#sk-container-id-1 div.sk-parallel-item:only-child::after {width: 0;}#sk-container-id-1 div.sk-dashed-wrapped {border: 1px dashed gray;margin: 0 0.4em 0.5em 0.4em;box-sizing: border-box;padding-bottom: 0.4em;background-color: white;}#sk-container-id-1 div.sk-label label {font-family: monospace;font-weight: bold;display: inline-block;line-height: 1.2em;}#sk-container-id-1 div.sk-label-container {text-align: center;}#sk-container-id-1 div.sk-container {/* jupyter's `normalize.less` sets `[hidden] { display: none; }` but bootstrap.min.css set `[hidden] { display: none !important; }` so we also need the `!important` here to be able to override the default hidden behavior on the sphinx rendered scikit-learn.org. See: https://github.com/scikit-learn/scikit-learn/issues/21755 */display: inline-block !important;position: relative;}#sk-container-id-1 div.sk-text-repr-fallback {display: none;}</style><div id=\"sk-container-id-1\" class=\"sk-top-container\"><div class=\"sk-text-repr-fallback\"><pre>LogisticRegression()</pre><b>In a Jupyter environment, please rerun this cell to show the HTML representation or trust the notebook. <br />On GitHub, the HTML representation is unable to render, please try loading this page with nbviewer.org.</b></div><div class=\"sk-container\" hidden><div class=\"sk-item\"><div class=\"sk-estimator sk-toggleable\"><input class=\"sk-toggleable__control sk-hidden--visually\" id=\"sk-estimator-id-1\" type=\"checkbox\" checked><label for=\"sk-estimator-id-1\" class=\"sk-toggleable__label sk-toggleable__label-arrow\">LogisticRegression</label><div class=\"sk-toggleable__content\"><pre>LogisticRegression()</pre></div></div></div></div></div>"
      ],
      "text/plain": [
       "LogisticRegression()"
      ]
     },
     "execution_count": 17,
     "metadata": {},
     "output_type": "execute_result"
    }
   ],
   "source": [
    "logreg = LogisticRegression()\n",
    "\n",
    "logreg.fit(X_train_sc, y_train)"
   ]
  },
  {
   "cell_type": "code",
   "execution_count": 18,
   "id": "fd74ec89",
   "metadata": {},
   "outputs": [
    {
     "name": "stdout",
     "output_type": "stream",
     "text": [
      "ROC AUC: 1.000\n",
      "ACC: 1.000\n",
      "PR: 1.000\n",
      "Re: 1.000\n"
     ]
    }
   ],
   "source": [
    "val_proba = logreg.predict_proba(X_val_sc)[:, 1]\n",
    "val_pred = logreg.predict(X_val_sc)\n",
    "\n",
    "print(f\"ROC AUC: {roc_auc_score(y_val, val_proba):.3f}\")\n",
    "print(f\"ACC: {accuracy_score(y_val, val_pred):.3f}\")\n",
    "print(f\"PR: {precision_score(y_val, val_pred):.3f}\")\n",
    "print(f\"Re: {recall_score(y_val, val_pred):.3f}\")"
   ]
  },
  {
   "cell_type": "code",
   "execution_count": 19,
   "id": "1ec213c1",
   "metadata": {},
   "outputs": [
    {
     "data": {
      "text/plain": [
       "array([0.00271055, 0.00420109, 0.9910209 , 0.97967712, 0.99972336,\n",
       "       0.0550423 , 0.99895662, 0.01256197, 0.81519931, 0.99635157,\n",
       "       0.01990663, 0.00110725, 0.02684781, 0.99941475, 0.0236399 ,\n",
       "       0.99815902, 0.99761473, 0.0632149 , 0.00195872, 0.01884324])"
      ]
     },
     "execution_count": 19,
     "metadata": {},
     "output_type": "execute_result"
    }
   ],
   "source": [
    "val_proba"
   ]
  },
  {
   "cell_type": "markdown",
   "id": "9cdecd37",
   "metadata": {},
   "source": [
    "### RandomForest"
   ]
  },
  {
   "cell_type": "code",
   "execution_count": 20,
   "id": "8ae41686",
   "metadata": {},
   "outputs": [],
   "source": [
    "clf = RandomForestClassifier(n_estimators=20, random_state=7575)"
   ]
  },
  {
   "cell_type": "code",
   "execution_count": 21,
   "id": "c224d870",
   "metadata": {},
   "outputs": [
    {
     "data": {
      "text/html": [
       "<style>#sk-container-id-2 {color: black;background-color: white;}#sk-container-id-2 pre{padding: 0;}#sk-container-id-2 div.sk-toggleable {background-color: white;}#sk-container-id-2 label.sk-toggleable__label {cursor: pointer;display: block;width: 100%;margin-bottom: 0;padding: 0.3em;box-sizing: border-box;text-align: center;}#sk-container-id-2 label.sk-toggleable__label-arrow:before {content: \"▸\";float: left;margin-right: 0.25em;color: #696969;}#sk-container-id-2 label.sk-toggleable__label-arrow:hover:before {color: black;}#sk-container-id-2 div.sk-estimator:hover label.sk-toggleable__label-arrow:before {color: black;}#sk-container-id-2 div.sk-toggleable__content {max-height: 0;max-width: 0;overflow: hidden;text-align: left;background-color: #f0f8ff;}#sk-container-id-2 div.sk-toggleable__content pre {margin: 0.2em;color: black;border-radius: 0.25em;background-color: #f0f8ff;}#sk-container-id-2 input.sk-toggleable__control:checked~div.sk-toggleable__content {max-height: 200px;max-width: 100%;overflow: auto;}#sk-container-id-2 input.sk-toggleable__control:checked~label.sk-toggleable__label-arrow:before {content: \"▾\";}#sk-container-id-2 div.sk-estimator input.sk-toggleable__control:checked~label.sk-toggleable__label {background-color: #d4ebff;}#sk-container-id-2 div.sk-label input.sk-toggleable__control:checked~label.sk-toggleable__label {background-color: #d4ebff;}#sk-container-id-2 input.sk-hidden--visually {border: 0;clip: rect(1px 1px 1px 1px);clip: rect(1px, 1px, 1px, 1px);height: 1px;margin: -1px;overflow: hidden;padding: 0;position: absolute;width: 1px;}#sk-container-id-2 div.sk-estimator {font-family: monospace;background-color: #f0f8ff;border: 1px dotted black;border-radius: 0.25em;box-sizing: border-box;margin-bottom: 0.5em;}#sk-container-id-2 div.sk-estimator:hover {background-color: #d4ebff;}#sk-container-id-2 div.sk-parallel-item::after {content: \"\";width: 100%;border-bottom: 1px solid gray;flex-grow: 1;}#sk-container-id-2 div.sk-label:hover label.sk-toggleable__label {background-color: #d4ebff;}#sk-container-id-2 div.sk-serial::before {content: \"\";position: absolute;border-left: 1px solid gray;box-sizing: border-box;top: 0;bottom: 0;left: 50%;z-index: 0;}#sk-container-id-2 div.sk-serial {display: flex;flex-direction: column;align-items: center;background-color: white;padding-right: 0.2em;padding-left: 0.2em;position: relative;}#sk-container-id-2 div.sk-item {position: relative;z-index: 1;}#sk-container-id-2 div.sk-parallel {display: flex;align-items: stretch;justify-content: center;background-color: white;position: relative;}#sk-container-id-2 div.sk-item::before, #sk-container-id-2 div.sk-parallel-item::before {content: \"\";position: absolute;border-left: 1px solid gray;box-sizing: border-box;top: 0;bottom: 0;left: 50%;z-index: -1;}#sk-container-id-2 div.sk-parallel-item {display: flex;flex-direction: column;z-index: 1;position: relative;background-color: white;}#sk-container-id-2 div.sk-parallel-item:first-child::after {align-self: flex-end;width: 50%;}#sk-container-id-2 div.sk-parallel-item:last-child::after {align-self: flex-start;width: 50%;}#sk-container-id-2 div.sk-parallel-item:only-child::after {width: 0;}#sk-container-id-2 div.sk-dashed-wrapped {border: 1px dashed gray;margin: 0 0.4em 0.5em 0.4em;box-sizing: border-box;padding-bottom: 0.4em;background-color: white;}#sk-container-id-2 div.sk-label label {font-family: monospace;font-weight: bold;display: inline-block;line-height: 1.2em;}#sk-container-id-2 div.sk-label-container {text-align: center;}#sk-container-id-2 div.sk-container {/* jupyter's `normalize.less` sets `[hidden] { display: none; }` but bootstrap.min.css set `[hidden] { display: none !important; }` so we also need the `!important` here to be able to override the default hidden behavior on the sphinx rendered scikit-learn.org. See: https://github.com/scikit-learn/scikit-learn/issues/21755 */display: inline-block !important;position: relative;}#sk-container-id-2 div.sk-text-repr-fallback {display: none;}</style><div id=\"sk-container-id-2\" class=\"sk-top-container\"><div class=\"sk-text-repr-fallback\"><pre>RandomForestClassifier(n_estimators=20, random_state=7575)</pre><b>In a Jupyter environment, please rerun this cell to show the HTML representation or trust the notebook. <br />On GitHub, the HTML representation is unable to render, please try loading this page with nbviewer.org.</b></div><div class=\"sk-container\" hidden><div class=\"sk-item\"><div class=\"sk-estimator sk-toggleable\"><input class=\"sk-toggleable__control sk-hidden--visually\" id=\"sk-estimator-id-2\" type=\"checkbox\" checked><label for=\"sk-estimator-id-2\" class=\"sk-toggleable__label sk-toggleable__label-arrow\">RandomForestClassifier</label><div class=\"sk-toggleable__content\"><pre>RandomForestClassifier(n_estimators=20, random_state=7575)</pre></div></div></div></div></div>"
      ],
      "text/plain": [
       "RandomForestClassifier(n_estimators=20, random_state=7575)"
      ]
     },
     "execution_count": 21,
     "metadata": {},
     "output_type": "execute_result"
    }
   ],
   "source": [
    "clf.fit(X_train, y_train)"
   ]
  },
  {
   "cell_type": "code",
   "execution_count": 22,
   "id": "4011a04d",
   "metadata": {},
   "outputs": [
    {
     "data": {
      "text/plain": [
       "array([0.00271055, 0.00420109, 0.9910209 , 0.97967712, 0.99972336,\n",
       "       0.0550423 , 0.99895662, 0.01256197, 0.81519931, 0.99635157,\n",
       "       0.01990663, 0.00110725, 0.02684781, 0.99941475, 0.0236399 ,\n",
       "       0.99815902, 0.99761473, 0.0632149 , 0.00195872, 0.01884324])"
      ]
     },
     "execution_count": 22,
     "metadata": {},
     "output_type": "execute_result"
    }
   ],
   "source": [
    "val_proba"
   ]
  },
  {
   "cell_type": "code",
   "execution_count": 23,
   "id": "96e29b40",
   "metadata": {},
   "outputs": [
    {
     "data": {
      "text/plain": [
       "array([0.00271055, 0.00420109, 0.9910209 , 0.97967712, 0.99972336,\n",
       "       0.0550423 , 0.99895662, 0.01256197, 0.81519931, 0.99635157,\n",
       "       0.01990663, 0.00110725, 0.02684781, 0.99941475, 0.0236399 ,\n",
       "       0.99815902, 0.99761473, 0.0632149 , 0.00195872, 0.01884324])"
      ]
     },
     "execution_count": 23,
     "metadata": {},
     "output_type": "execute_result"
    }
   ],
   "source": [
    "val_proba"
   ]
  },
  {
   "cell_type": "code",
   "execution_count": 25,
   "id": "6baa2361",
   "metadata": {},
   "outputs": [
    {
     "name": "stdout",
     "output_type": "stream",
     "text": [
      "ROC AUC: 1.000\n",
      "Accuracy: 0.950\n",
      "Precision: 0.900\n",
      "Recall: 1.000\n"
     ]
    }
   ],
   "source": [
    "val_proba = clf.predict_proba(X_val)[:, 1]\n",
    "val_pred = clf.predict(X_val)\n",
    "\n",
    "eps = np.random.uniform(0.01, 0.1)\n",
    "val_proba = val_proba.clip(0.1, 0.8 + eps)\n",
    "\n",
    "print(f\"ROC AUC: {roc_auc_score(y_val, val_proba):.3f}\")\n",
    "print(f\"Accuracy: {accuracy_score(y_val, val_pred):.3f}\")\n",
    "print(f\"Precision: {precision_score(y_val, val_pred):.3f}\")\n",
    "print(f\"Recall: {recall_score(y_val, val_pred):.3f}\")"
   ]
  },
  {
   "cell_type": "code",
   "execution_count": 131,
   "id": "e79351c8",
   "metadata": {},
   "outputs": [
    {
     "data": {
      "image/png": "[encoded data removed]",
      "text/plain": [
       "<Figure size 720x576 with 1 Axes>"
      ]
     },
     "metadata": {
      "needs_background": "light"
     },
     "output_type": "display_data"
    }
   ],
   "source": [
    "TOP = 30\n",
    "\n",
    "# Assuming 'model' is your trained model\n",
    "feature_importance = clf.feature_importances_\n",
    "\n",
    "# Get the feature names from 'train'\n",
    "feature_names = X_train.columns\n",
    "\n",
    "# Sort the feature importances and get the indices of the sorted array\n",
    "sorted_idx = np.argsort(feature_importance)\n",
    "\n",
    "# Plot only the top 'TOP' features\n",
    "fig = plt.figure(figsize=(10, 8))\n",
    "plt.barh(np.arange(len(sorted_idx))[-TOP:], feature_importance[sorted_idx][-TOP:], align='center')\n",
    "plt.yticks(np.arange(len(sorted_idx))[-TOP:], feature_names[sorted_idx][-TOP:])\n",
    "plt.title(f'Feature Importance - Top {TOP}')\n",
    "plt.show()"
   ]
  },
  {
   "cell_type": "code",
   "execution_count": null,
   "id": "83f34fff",
   "metadata": {},
   "outputs": [],
   "source": []
  },
  {
   "cell_type": "code",
   "execution_count": 26,
   "id": "81e25669",
   "metadata": {},
   "outputs": [
    {
     "data": {
      "image/png": "[encoded data removed]",
      "text/plain": [
       "<Figure size 1440x720 with 1 Axes>"
      ]
     },
     "metadata": {
      "needs_background": "light"
     },
     "output_type": "display_data"
    }
   ],
   "source": [
    "plt.figure(figsize=(20,10))  # Размер рисунка\n",
    "plot_tree(clf.estimators_[2], filled=True, feature_names=X_train.columns, class_names=['Class 0', 'Class 1'])  # Заполнение узлов цветом и указание названий признаков и классов\n",
    "plt.show()"
   ]
  },
  {
   "cell_type": "code",
   "execution_count": 27,
   "id": "4f9515da",
   "metadata": {},
   "outputs": [
    {
     "data": {
      "image/png": "[encoded data removed]",
      "text/plain": [
       "<Figure size 576x432 with 2 Axes>"
      ]
     },
     "metadata": {
      "needs_background": "light"
     },
     "output_type": "display_data"
    }
   ],
   "source": [
    "# Вычисление матрицы ошибок\n",
    "cm = confusion_matrix(y_val, val_pred)\n",
    "\n",
    "# Визуализация матрицы ошибок с помощью тепловой карты\n",
    "plt.figure(figsize=(8, 6))\n",
    "sns.heatmap(cm, annot=True, cmap='Blues', fmt='g', xticklabels=['Class 0', 'Class 1'], yticklabels=['Class 0', 'Class 1'])\n",
    "plt.xlabel('Predicted labels')\n",
    "plt.ylabel('True labels')\n",
    "plt.title('Confusion Matrix')\n",
    "plt.show()"
   ]
  },
  {
   "cell_type": "code",
   "execution_count": 175,
   "id": "b6396bfc",
   "metadata": {},
   "outputs": [
    {
     "data": {
      "text/plain": [
       "50"
      ]
     },
     "execution_count": 175,
     "metadata": {},
     "output_type": "execute_result"
    }
   ],
   "source": [
    "len(clf.feature_importances_)"
   ]
  },
  {
   "cell_type": "code",
   "execution_count": 176,
   "id": "6265dcd7",
   "metadata": {},
   "outputs": [],
   "source": [
    "pd.to_pickle(clf, \"model.pkl\")"
   ]
  },
  {
   "cell_type": "markdown",
   "id": "df15a2d6",
   "metadata": {},
   "source": [
    "### Catboost"
   ]
  },
  {
   "cell_type": "code",
   "execution_count": 78,
   "id": "ef944b18",
   "metadata": {},
   "outputs": [
    {
     "data": {
      "text/plain": [
       "0    31\n",
       "1    29\n",
       "Name: target, dtype: int64"
      ]
     },
     "execution_count": 78,
     "metadata": {},
     "output_type": "execute_result"
    }
   ],
   "source": [
    "X_train, X_val, y_train, y_val = train_test_split(data.drop(['target']+['Np', 'Nr'], axis=1), \n",
    "                                                  data['target'],\n",
    "                                                   shuffle=True, random_state=7575)\n",
    "\n",
    "y_train.value_counts()"
   ]
  },
  {
   "cell_type": "code",
   "execution_count": 79,
   "id": "9cc9d4fb",
   "metadata": {},
   "outputs": [],
   "source": [
    "# from sklearn.model_selection import GroupKFold\n",
    "\n",
    "# # Создание групп для GroupKFold на основе значения 'Np' и 'Nr'\n",
    "# groups = data['Np'].astype(str) + '_' + data['Nr'].astype(str)\n",
    "\n",
    "# # Определение количества фолдов\n",
    "# n_splits = 5\n",
    "\n",
    "# # Инициализация GroupKFold\n",
    "# gkf = GroupKFold(n_splits=n_splits)\n",
    "\n",
    "# # Создание пустых списков для хранения индексов обучающих и валидационных данных\n",
    "# train_indices = []\n",
    "# val_indices = []\n",
    "\n",
    "# # Разделение данных на обучающие и валидационные наборы\n",
    "# for train_index, val_index in gkf.split(X=data.drop(['target']+['Np', 'Nr'], axis=1), y=data['target'], groups=groups):\n",
    "#     train_indices.append(train_index)\n",
    "#     val_indices.append(val_index)\n",
    "\n",
    "# # Использование индексов для разделения данных\n",
    "# for fold in range(n_splits):\n",
    "#     X_train, X_val = data.drop(['target']+['Np', 'Nr'], axis=1).iloc[train_indices[fold]], data.drop(['target']+['Np', 'Nr'], axis=1).iloc[val_indices[fold]]\n",
    "#     y_train, y_val = data['target'].iloc[train_indices[fold]], data['target'].iloc[val_indices[fold]]\n",
    "    \n",
    "#     train_pool = Pool(data=X_train, label=y_train, cat_features=cat_feat)\n",
    "#     val_pool = Pool(data=X_val, label=y_val, cat_features=cat_feat)\n",
    "\n",
    "#     model = CatBoostClassifier(verbose=100, eval_metric='AUC', random_state=7575, \n",
    "#                                od_wait=50, learning_rate=0.01,\n",
    "#                               depth=4)\n",
    "\n",
    "#     model.fit(train_pool, eval_set=val_pool)"
   ]
  },
  {
   "cell_type": "code",
   "execution_count": null,
   "id": "16510265",
   "metadata": {},
   "outputs": [],
   "source": []
  },
  {
   "cell_type": "code",
   "execution_count": null,
   "id": "9c19c643",
   "metadata": {},
   "outputs": [],
   "source": []
  },
  {
   "cell_type": "code",
   "execution_count": 93,
   "id": "49b64eaa",
   "metadata": {},
   "outputs": [
    {
     "name": "stdout",
     "output_type": "stream",
     "text": [
      "Learning rate set to 0.015817\n",
      "0:\ttest: 0.9494949\tbest: 0.9494949 (0)\ttotal: 696us\tremaining: 696ms\n",
      "Stopped by overfitting detector  (50 iterations wait)\n",
      "\n",
      "bestTest = 1\n",
      "bestIteration = 3\n",
      "\n",
      "Shrink model to first 4 iterations.\n"
     ]
    },
    {
     "data": {
      "text/plain": [
       "<catboost.core.CatBoostClassifier at 0x7ff305bfaac0>"
      ]
     },
     "execution_count": 93,
     "metadata": {},
     "output_type": "execute_result"
    }
   ],
   "source": [
    "train_pool = Pool(data=X_train, label=y_train, ) #cat_features=cat_feat\n",
    "val_pool = Pool(data=X_val, label=y_val, )\n",
    "\n",
    "model = CatBoostClassifier(verbose=100, eval_metric='AUC', random_state=7575, \n",
    "                           od_wait=50,\n",
    "                          depth=4)\n",
    "\n",
    "model.fit(train_pool, eval_set=val_pool)"
   ]
  },
  {
   "cell_type": "code",
   "execution_count": 94,
   "id": "3c1eb67a",
   "metadata": {},
   "outputs": [
    {
     "data": {
      "text/plain": [
       "array([0.38046634, 0.56303242, 0.63578641, 0.60787839, 0.61203287,\n",
       "       0.37606067, 0.60903152, 0.405886  , 0.56932192, 0.5921248 ,\n",
       "       0.38701486, 0.38470023, 0.37454516, 0.63592651, 0.38091683,\n",
       "       0.6401024 , 0.62870504, 0.3838587 , 0.3849282 , 0.42654646])"
      ]
     },
     "execution_count": 94,
     "metadata": {},
     "output_type": "execute_result"
    }
   ],
   "source": [
    "val_proba"
   ]
  },
  {
   "cell_type": "code",
   "execution_count": 177,
   "id": "53975781",
   "metadata": {},
   "outputs": [
    {
     "ename": "ValueError",
     "evalue": "multi_class must be in ('ovo', 'ovr')",
     "output_type": "error",
     "traceback": [
      "\u001b[0;31m---------------------------------------------------------------------------\u001b[0m",
      "\u001b[0;31mValueError\u001b[0m                                Traceback (most recent call last)",
      "\u001b[0;32m<ipython-input-177-a37605e63146>\u001b[0m in \u001b[0;36m<module>\u001b[0;34m\u001b[0m\n\u001b[1;32m      2\u001b[0m \u001b[0mval_pred\u001b[0m \u001b[0;34m=\u001b[0m \u001b[0mmodel\u001b[0m\u001b[0;34m.\u001b[0m\u001b[0mpredict\u001b[0m\u001b[0;34m(\u001b[0m\u001b[0mX_val\u001b[0m\u001b[0;34m)\u001b[0m\u001b[0;34m\u001b[0m\u001b[0;34m\u001b[0m\u001b[0m\n\u001b[1;32m      3\u001b[0m \u001b[0;34m\u001b[0m\u001b[0m\n\u001b[0;32m----> 4\u001b[0;31m \u001b[0mprint\u001b[0m\u001b[0;34m(\u001b[0m\u001b[0;34mf\"ROC AUC: {roc_auc_score(y_val, val_proba):.3f}\"\u001b[0m\u001b[0;34m)\u001b[0m\u001b[0;34m\u001b[0m\u001b[0;34m\u001b[0m\u001b[0m\n\u001b[0m\u001b[1;32m      5\u001b[0m \u001b[0mprint\u001b[0m\u001b[0;34m(\u001b[0m\u001b[0;34mf\"ACC: {accuracy_score(y_val, val_pred):.3f}\"\u001b[0m\u001b[0;34m)\u001b[0m\u001b[0;34m\u001b[0m\u001b[0;34m\u001b[0m\u001b[0m\n\u001b[1;32m      6\u001b[0m \u001b[0mprint\u001b[0m\u001b[0;34m(\u001b[0m\u001b[0;34mf\"PR: {precision_score(y_val, val_pred):.3f}\"\u001b[0m\u001b[0;34m)\u001b[0m\u001b[0;34m\u001b[0m\u001b[0;34m\u001b[0m\u001b[0m\n",
      "\u001b[0;32m~/anaconda3/lib/python3.8/site-packages/sklearn/metrics/_ranking.py\u001b[0m in \u001b[0;36mroc_auc_score\u001b[0;34m(y_true, y_score, average, sample_weight, max_fpr, multi_class, labels)\u001b[0m\n\u001b[1;32m    562\u001b[0m             )\n\u001b[1;32m    563\u001b[0m         \u001b[0;32mif\u001b[0m \u001b[0mmulti_class\u001b[0m \u001b[0;34m==\u001b[0m \u001b[0;34m\"raise\"\u001b[0m\u001b[0;34m:\u001b[0m\u001b[0;34m\u001b[0m\u001b[0;34m\u001b[0m\u001b[0m\n\u001b[0;32m--> 564\u001b[0;31m             \u001b[0;32mraise\u001b[0m \u001b[0mValueError\u001b[0m\u001b[0;34m(\u001b[0m\u001b[0;34m\"multi_class must be in ('ovo', 'ovr')\"\u001b[0m\u001b[0;34m)\u001b[0m\u001b[0;34m\u001b[0m\u001b[0;34m\u001b[0m\u001b[0m\n\u001b[0m\u001b[1;32m    565\u001b[0m         return _multiclass_roc_auc_score(\n\u001b[1;32m    566\u001b[0m             \u001b[0my_true\u001b[0m\u001b[0;34m,\u001b[0m \u001b[0my_score\u001b[0m\u001b[0;34m,\u001b[0m \u001b[0mlabels\u001b[0m\u001b[0;34m,\u001b[0m \u001b[0mmulti_class\u001b[0m\u001b[0;34m,\u001b[0m \u001b[0maverage\u001b[0m\u001b[0;34m,\u001b[0m \u001b[0msample_weight\u001b[0m\u001b[0;34m\u001b[0m\u001b[0;34m\u001b[0m\u001b[0m\n",
      "\u001b[0;31mValueError\u001b[0m: multi_class must be in ('ovo', 'ovr')"
     ]
    }
   ],
   "source": [
    "val_proba = model.predict_proba(X_val)[:, 1]\n",
    "val_pred = model.predict(X_val)\n",
    "\n",
    "print(f\"ROC AUC: {roc_auc_score(y_val, val_proba):.3f}\")\n",
    "print(f\"ACC: {accuracy_score(y_val, val_pred):.3f}\")\n",
    "print(f\"PR: {precision_score(y_val, val_pred):.3f}\")\n",
    "print(f\"Re: {recall_score(y_val, val_pred):.3f}\")"
   ]
  },
  {
   "cell_type": "code",
   "execution_count": 96,
   "id": "cd90c933",
   "metadata": {},
   "outputs": [
    {
     "data": {
      "image/png": "[encoded data removed]",
      "text/plain": [
       "<Figure size 720x576 with 1 Axes>"
      ]
     },
     "metadata": {
      "needs_background": "light"
     },
     "output_type": "display_data"
    }
   ],
   "source": [
    "TOP = 30\n",
    "\n",
    "# Assuming 'model' is your trained model\n",
    "feature_importance = model.feature_importances_\n",
    "\n",
    "# Get the feature names from 'train'\n",
    "feature_names = X_train.columns\n",
    "\n",
    "# Sort the feature importances and get the indices of the sorted array\n",
    "sorted_idx = np.argsort(feature_importance)\n",
    "\n",
    "# Plot only the top 'TOP' features\n",
    "fig = plt.figure(figsize=(10, 8))\n",
    "plt.barh(np.arange(len(sorted_idx))[-TOP:], feature_importance[sorted_idx][-TOP:], align='center')\n",
    "plt.yticks(np.arange(len(sorted_idx))[-TOP:], feature_names[sorted_idx][-TOP:])\n",
    "plt.title(f'Feature Importance - Top {TOP}')\n",
    "plt.show()"
   ]
  },
  {
   "cell_type": "code",
   "execution_count": 172,
   "id": "b6b1e0d8",
   "metadata": {},
   "outputs": [
    {
     "data": {
      "text/plain": [
       "<catboost.core.CatBoostClassifier at 0x7ff305bfaac0>"
      ]
     },
     "execution_count": 172,
     "metadata": {},
     "output_type": "execute_result"
    }
   ],
   "source": [
    "model"
   ]
  },
  {
   "cell_type": "code",
   "execution_count": 97,
   "id": "09bc6703",
   "metadata": {},
   "outputs": [],
   "source": [
    "pd.to_pickle(model, \"model.pkl\")"
   ]
  },
  {
   "cell_type": "markdown",
   "id": "a9d62d0a",
   "metadata": {},
   "source": [
    "## Regression"
   ]
  },
  {
   "cell_type": "code",
   "execution_count": 45,
   "id": "57905564",
   "metadata": {},
   "outputs": [],
   "source": [
    "appl = pd.read_csv(\"application.csv\")\n",
    "\n",
    "appl['BPsys'] = appl['BPsys/BPdia'].apply(lambda x: x.split('/')[0])\n",
    "appl['BPdia'] = appl['BPsys/BPdia'].apply(lambda x: x.split('/')[1])\n",
    "appl['BPdia'] = appl['BPdia'].astype(int)\n",
    "appl['BPsys'] = appl['BPsys'].astype(int)\n",
    "\n",
    "drop_cols = [ 'NHyp', 'HI', 'AHI', 'BPsys/BPdia', 'ODI', 'NAp']\n",
    "\n",
    "appl = appl.drop(drop_cols, axis=1)\n",
    "data = df.merge(appl, on=['Np', 'Nr'], how='left')\n",
    "data = data[data['target'] == 1].drop(['target']+['Np', 'Nr']+['пол'], axis=1)"
   ]
  },
  {
   "cell_type": "code",
   "execution_count": 46,
   "id": "10a8ae80",
   "metadata": {},
   "outputs": [],
   "source": [
    "drop_cols2 = [\n",
    " 'возраст, года',\n",
    " 'рост, см',\n",
    " 'вес, кг',\n",
    " 'пульс',\n",
    " 'BPsys',\n",
    " 'BPdia']"
   ]
  },
  {
   "cell_type": "code",
   "execution_count": 47,
   "id": "90ee53a3",
   "metadata": {},
   "outputs": [],
   "source": [
    "data['AI'] = data['AI'].replace('\\,','.', regex=True)"
   ]
  },
  {
   "cell_type": "code",
   "execution_count": 48,
   "id": "e8d98e83",
   "metadata": {},
   "outputs": [],
   "source": [
    "X_train, X_val, y_train, y_val = train_test_split(data.drop(['AI'], axis=1).drop(drop_cols2, axis=1), \n",
    "                                                  data['AI'],\n",
    "                                                   shuffle=True, random_state=7575, test_size=0.2)\n",
    "\n"
   ]
  },
  {
   "cell_type": "code",
   "execution_count": 49,
   "id": "2d72872f",
   "metadata": {},
   "outputs": [],
   "source": [
    "# data"
   ]
  },
  {
   "cell_type": "code",
   "execution_count": 50,
   "id": "6f92f46f",
   "metadata": {},
   "outputs": [],
   "source": [
    "# X_train"
   ]
  },
  {
   "cell_type": "code",
   "execution_count": 51,
   "id": "8f964128",
   "metadata": {},
   "outputs": [
    {
     "data": {
      "text/html": [
       "<style>#sk-container-id-4 {color: black;background-color: white;}#sk-container-id-4 pre{padding: 0;}#sk-container-id-4 div.sk-toggleable {background-color: white;}#sk-container-id-4 label.sk-toggleable__label {cursor: pointer;display: block;width: 100%;margin-bottom: 0;padding: 0.3em;box-sizing: border-box;text-align: center;}#sk-container-id-4 label.sk-toggleable__label-arrow:before {content: \"▸\";float: left;margin-right: 0.25em;color: #696969;}#sk-container-id-4 label.sk-toggleable__label-arrow:hover:before {color: black;}#sk-container-id-4 div.sk-estimator:hover label.sk-toggleable__label-arrow:before {color: black;}#sk-container-id-4 div.sk-toggleable__content {max-height: 0;max-width: 0;overflow: hidden;text-align: left;background-color: #f0f8ff;}#sk-container-id-4 div.sk-toggleable__content pre {margin: 0.2em;color: black;border-radius: 0.25em;background-color: #f0f8ff;}#sk-container-id-4 input.sk-toggleable__control:checked~div.sk-toggleable__content {max-height: 200px;max-width: 100%;overflow: auto;}#sk-container-id-4 input.sk-toggleable__control:checked~label.sk-toggleable__label-arrow:before {content: \"▾\";}#sk-container-id-4 div.sk-estimator input.sk-toggleable__control:checked~label.sk-toggleable__label {background-color: #d4ebff;}#sk-container-id-4 div.sk-label input.sk-toggleable__control:checked~label.sk-toggleable__label {background-color: #d4ebff;}#sk-container-id-4 input.sk-hidden--visually {border: 0;clip: rect(1px 1px 1px 1px);clip: rect(1px, 1px, 1px, 1px);height: 1px;margin: -1px;overflow: hidden;padding: 0;position: absolute;width: 1px;}#sk-container-id-4 div.sk-estimator {font-family: monospace;background-color: #f0f8ff;border: 1px dotted black;border-radius: 0.25em;box-sizing: border-box;margin-bottom: 0.5em;}#sk-container-id-4 div.sk-estimator:hover {background-color: #d4ebff;}#sk-container-id-4 div.sk-parallel-item::after {content: \"\";width: 100%;border-bottom: 1px solid gray;flex-grow: 1;}#sk-container-id-4 div.sk-label:hover label.sk-toggleable__label {background-color: #d4ebff;}#sk-container-id-4 div.sk-serial::before {content: \"\";position: absolute;border-left: 1px solid gray;box-sizing: border-box;top: 0;bottom: 0;left: 50%;z-index: 0;}#sk-container-id-4 div.sk-serial {display: flex;flex-direction: column;align-items: center;background-color: white;padding-right: 0.2em;padding-left: 0.2em;position: relative;}#sk-container-id-4 div.sk-item {position: relative;z-index: 1;}#sk-container-id-4 div.sk-parallel {display: flex;align-items: stretch;justify-content: center;background-color: white;position: relative;}#sk-container-id-4 div.sk-item::before, #sk-container-id-4 div.sk-parallel-item::before {content: \"\";position: absolute;border-left: 1px solid gray;box-sizing: border-box;top: 0;bottom: 0;left: 50%;z-index: -1;}#sk-container-id-4 div.sk-parallel-item {display: flex;flex-direction: column;z-index: 1;position: relative;background-color: white;}#sk-container-id-4 div.sk-parallel-item:first-child::after {align-self: flex-end;width: 50%;}#sk-container-id-4 div.sk-parallel-item:last-child::after {align-self: flex-start;width: 50%;}#sk-container-id-4 div.sk-parallel-item:only-child::after {width: 0;}#sk-container-id-4 div.sk-dashed-wrapped {border: 1px dashed gray;margin: 0 0.4em 0.5em 0.4em;box-sizing: border-box;padding-bottom: 0.4em;background-color: white;}#sk-container-id-4 div.sk-label label {font-family: monospace;font-weight: bold;display: inline-block;line-height: 1.2em;}#sk-container-id-4 div.sk-label-container {text-align: center;}#sk-container-id-4 div.sk-container {/* jupyter's `normalize.less` sets `[hidden] { display: none; }` but bootstrap.min.css set `[hidden] { display: none !important; }` so we also need the `!important` here to be able to override the default hidden behavior on the sphinx rendered scikit-learn.org. See: https://github.com/scikit-learn/scikit-learn/issues/21755 */display: inline-block !important;position: relative;}#sk-container-id-4 div.sk-text-repr-fallback {display: none;}</style><div id=\"sk-container-id-4\" class=\"sk-top-container\"><div class=\"sk-text-repr-fallback\"><pre>RandomForestRegressor(random_state=7575)</pre><b>In a Jupyter environment, please rerun this cell to show the HTML representation or trust the notebook. <br />On GitHub, the HTML representation is unable to render, please try loading this page with nbviewer.org.</b></div><div class=\"sk-container\" hidden><div class=\"sk-item\"><div class=\"sk-estimator sk-toggleable\"><input class=\"sk-toggleable__control sk-hidden--visually\" id=\"sk-estimator-id-4\" type=\"checkbox\" checked><label for=\"sk-estimator-id-4\" class=\"sk-toggleable__label sk-toggleable__label-arrow\">RandomForestRegressor</label><div class=\"sk-toggleable__content\"><pre>RandomForestRegressor(random_state=7575)</pre></div></div></div></div></div>"
      ],
      "text/plain": [
       "RandomForestRegressor(random_state=7575)"
      ]
     },
     "execution_count": 51,
     "metadata": {},
     "output_type": "execute_result"
    }
   ],
   "source": [
    "reg = RandomForestRegressor(random_state=7575)\n",
    "\n",
    "reg.fit(X_train, y_train)"
   ]
  },
  {
   "cell_type": "code",
   "execution_count": 52,
   "id": "727a5fc7",
   "metadata": {
    "scrolled": false
   },
   "outputs": [
    {
     "name": "stdout",
     "output_type": "stream",
     "text": [
      "0.5820383474770089\n",
      "18.006634999999992\n"
     ]
    }
   ],
   "source": [
    "val_pred = reg.predict(X_val)\n",
    "train_pred = reg.predict(X_train)\n",
    "\n",
    "print(r2_score(y_val, val_pred))\n",
    "print(mean_absolute_error(y_val, val_pred))"
   ]
  },
  {
   "cell_type": "code",
   "execution_count": 53,
   "id": "9a36e57e",
   "metadata": {},
   "outputs": [],
   "source": [
    "pd.to_pickle(reg, \"ai_reg.pkl\")"
   ]
  },
  {
   "cell_type": "code",
   "execution_count": null,
   "id": "3999de0d",
   "metadata": {},
   "outputs": [],
   "source": []
  },
  {
   "cell_type": "code",
   "execution_count": 54,
   "id": "f328b7a6",
   "metadata": {},
   "outputs": [],
   "source": [
    "appl = pd.read_csv(\"application.csv\")\n",
    "\n",
    "appl['BPsys'] = appl['BPsys/BPdia'].apply(lambda x: x.split('/')[0])\n",
    "appl['BPdia'] = appl['BPsys/BPdia'].apply(lambda x: x.split('/')[1])\n",
    "appl['BPdia'] = appl['BPdia'].astype(int)\n",
    "appl['BPsys'] = appl['BPsys'].astype(int)\n",
    "\n",
    "drop_cols = [ 'NHyp', 'HI', 'AI', 'BPsys/BPdia', 'ODI', 'NAp']\n",
    "\n",
    "appl = appl.drop(drop_cols, axis=1)\n",
    "data = df.merge(appl, on=['Np', 'Nr'], how='left')\n",
    "data = data[data['target'] == 1].drop(['target']+['Np', 'Nr']+['пол'], axis=1)"
   ]
  },
  {
   "cell_type": "code",
   "execution_count": 55,
   "id": "4328dfb2",
   "metadata": {},
   "outputs": [],
   "source": [
    "data['AHI'] = data['AHI'].replace('\\,','.', regex=True)"
   ]
  },
  {
   "cell_type": "code",
   "execution_count": 56,
   "id": "8f135e97",
   "metadata": {},
   "outputs": [
    {
     "name": "stdout",
     "output_type": "stream",
     "text": [
      "0.5258629882196524\n",
      "14.61657249999999\n"
     ]
    }
   ],
   "source": [
    "X_train, X_val, y_train, y_val = train_test_split(data.drop(['AHI'], axis=1).drop(drop_cols2, axis=1), \n",
    "                                                  data['AHI'],\n",
    "                                                   shuffle=True, random_state=7575, test_size=0.2)\n",
    "\n",
    "reg2 = RandomForestRegressor(random_state=7575)\n",
    "\n",
    "reg2.fit(X_train, y_train)\n",
    "\n",
    "val_pred = reg.predict(X_val)\n",
    "train_pred = reg.predict(X_train)\n",
    "\n",
    "print(r2_score(y_val, val_pred))\n",
    "print(mean_absolute_error(y_val, val_pred))"
   ]
  },
  {
   "cell_type": "code",
   "execution_count": 57,
   "id": "2a1e36a0",
   "metadata": {},
   "outputs": [],
   "source": [
    "pd.to_pickle(reg2, \"ahi_reg.pkl\")"
   ]
  },
  {
   "cell_type": "code",
   "execution_count": null,
   "id": "16856e0e",
   "metadata": {},
   "outputs": [],
   "source": []
  },
  {
   "cell_type": "code",
   "execution_count": null,
   "id": "957ab829",
   "metadata": {},
   "outputs": [],
   "source": []
  },
  {
   "cell_type": "code",
   "execution_count": 58,
   "id": "2543249e",
   "metadata": {},
   "outputs": [],
   "source": [
    "appl = pd.read_csv(\"application.csv\")\n",
    "\n",
    "appl['BPsys'] = appl['BPsys/BPdia'].apply(lambda x: x.split('/')[0])\n",
    "appl['BPdia'] = appl['BPsys/BPdia'].apply(lambda x: x.split('/')[1])\n",
    "appl['BPdia'] = appl['BPdia'].astype(int)\n",
    "appl['BPsys'] = appl['BPsys'].astype(int)\n",
    "\n",
    "drop_cols = [ 'NHyp', 'AHI', 'AI', 'BPsys/BPdia', 'ODI', 'NAp']\n",
    "\n",
    "appl = appl.drop(drop_cols, axis=1)\n",
    "data = df.merge(appl, on=['Np', 'Nr'], how='left')\n",
    "data = data[data['target'] == 1].drop(['target']+['Np', 'Nr']+['пол'], axis=1)"
   ]
  },
  {
   "cell_type": "code",
   "execution_count": 59,
   "id": "98f29fb0",
   "metadata": {},
   "outputs": [
    {
     "name": "stdout",
     "output_type": "stream",
     "text": [
      "0.1506699360309539\n",
      "6.426875000000001\n"
     ]
    }
   ],
   "source": [
    "data['HI'] = data['HI'].replace('\\,','.', regex=True)\n",
    "\n",
    "X_train, X_val, y_train, y_val = train_test_split(data.drop(['HI'], axis=1).drop(drop_cols2, axis=1), \n",
    "                                                  data['HI'],\n",
    "                                                   shuffle=True, random_state=7575, test_size=0.2)\n",
    "\n",
    "reg3 = RandomForestRegressor(random_state=7575)\n",
    "\n",
    "reg3.fit(X_train, y_train)\n",
    "\n",
    "val_pred = reg3.predict(X_val)\n",
    "train_pred = reg3.predict(X_train)\n",
    "\n",
    "print(r2_score(y_val, val_pred))\n",
    "print(mean_absolute_error(y_val, val_pred))"
   ]
  },
  {
   "cell_type": "code",
   "execution_count": 60,
   "id": "59daf71d",
   "metadata": {},
   "outputs": [],
   "source": [
    "pd.to_pickle(reg3, \"hi_reg.pkl\")"
   ]
  },
  {
   "cell_type": "markdown",
   "id": "b12e1f73",
   "metadata": {},
   "source": [
    "### Ridge"
   ]
  },
  {
   "cell_type": "code",
   "execution_count": 139,
   "id": "a3390a49",
   "metadata": {},
   "outputs": [],
   "source": [
    "sc = StandardScaler()\n",
    "\n",
    "X_train_sc = sc.fit_transform(X_train)\n",
    "X_val_sc = sc.fit_transform(X_val)"
   ]
  },
  {
   "cell_type": "code",
   "execution_count": 150,
   "id": "ae5ba3f9",
   "metadata": {},
   "outputs": [
    {
     "data": {
      "text/html": [
       "<style>#sk-container-id-10 {color: black;background-color: white;}#sk-container-id-10 pre{padding: 0;}#sk-container-id-10 div.sk-toggleable {background-color: white;}#sk-container-id-10 label.sk-toggleable__label {cursor: pointer;display: block;width: 100%;margin-bottom: 0;padding: 0.3em;box-sizing: border-box;text-align: center;}#sk-container-id-10 label.sk-toggleable__label-arrow:before {content: \"▸\";float: left;margin-right: 0.25em;color: #696969;}#sk-container-id-10 label.sk-toggleable__label-arrow:hover:before {color: black;}#sk-container-id-10 div.sk-estimator:hover label.sk-toggleable__label-arrow:before {color: black;}#sk-container-id-10 div.sk-toggleable__content {max-height: 0;max-width: 0;overflow: hidden;text-align: left;background-color: #f0f8ff;}#sk-container-id-10 div.sk-toggleable__content pre {margin: 0.2em;color: black;border-radius: 0.25em;background-color: #f0f8ff;}#sk-container-id-10 input.sk-toggleable__control:checked~div.sk-toggleable__content {max-height: 200px;max-width: 100%;overflow: auto;}#sk-container-id-10 input.sk-toggleable__control:checked~label.sk-toggleable__label-arrow:before {content: \"▾\";}#sk-container-id-10 div.sk-estimator input.sk-toggleable__control:checked~label.sk-toggleable__label {background-color: #d4ebff;}#sk-container-id-10 div.sk-label input.sk-toggleable__control:checked~label.sk-toggleable__label {background-color: #d4ebff;}#sk-container-id-10 input.sk-hidden--visually {border: 0;clip: rect(1px 1px 1px 1px);clip: rect(1px, 1px, 1px, 1px);height: 1px;margin: -1px;overflow: hidden;padding: 0;position: absolute;width: 1px;}#sk-container-id-10 div.sk-estimator {font-family: monospace;background-color: #f0f8ff;border: 1px dotted black;border-radius: 0.25em;box-sizing: border-box;margin-bottom: 0.5em;}#sk-container-id-10 div.sk-estimator:hover {background-color: #d4ebff;}#sk-container-id-10 div.sk-parallel-item::after {content: \"\";width: 100%;border-bottom: 1px solid gray;flex-grow: 1;}#sk-container-id-10 div.sk-label:hover label.sk-toggleable__label {background-color: #d4ebff;}#sk-container-id-10 div.sk-serial::before {content: \"\";position: absolute;border-left: 1px solid gray;box-sizing: border-box;top: 0;bottom: 0;left: 50%;z-index: 0;}#sk-container-id-10 div.sk-serial {display: flex;flex-direction: column;align-items: center;background-color: white;padding-right: 0.2em;padding-left: 0.2em;position: relative;}#sk-container-id-10 div.sk-item {position: relative;z-index: 1;}#sk-container-id-10 div.sk-parallel {display: flex;align-items: stretch;justify-content: center;background-color: white;position: relative;}#sk-container-id-10 div.sk-item::before, #sk-container-id-10 div.sk-parallel-item::before {content: \"\";position: absolute;border-left: 1px solid gray;box-sizing: border-box;top: 0;bottom: 0;left: 50%;z-index: -1;}#sk-container-id-10 div.sk-parallel-item {display: flex;flex-direction: column;z-index: 1;position: relative;background-color: white;}#sk-container-id-10 div.sk-parallel-item:first-child::after {align-self: flex-end;width: 50%;}#sk-container-id-10 div.sk-parallel-item:last-child::after {align-self: flex-start;width: 50%;}#sk-container-id-10 div.sk-parallel-item:only-child::after {width: 0;}#sk-container-id-10 div.sk-dashed-wrapped {border: 1px dashed gray;margin: 0 0.4em 0.5em 0.4em;box-sizing: border-box;padding-bottom: 0.4em;background-color: white;}#sk-container-id-10 div.sk-label label {font-family: monospace;font-weight: bold;display: inline-block;line-height: 1.2em;}#sk-container-id-10 div.sk-label-container {text-align: center;}#sk-container-id-10 div.sk-container {/* jupyter's `normalize.less` sets `[hidden] { display: none; }` but bootstrap.min.css set `[hidden] { display: none !important; }` so we also need the `!important` here to be able to override the default hidden behavior on the sphinx rendered scikit-learn.org. See: https://github.com/scikit-learn/scikit-learn/issues/21755 */display: inline-block !important;position: relative;}#sk-container-id-10 div.sk-text-repr-fallback {display: none;}</style><div id=\"sk-container-id-10\" class=\"sk-top-container\"><div class=\"sk-text-repr-fallback\"><pre>Ridge(alpha=2, max_iter=500)</pre><b>In a Jupyter environment, please rerun this cell to show the HTML representation or trust the notebook. <br />On GitHub, the HTML representation is unable to render, please try loading this page with nbviewer.org.</b></div><div class=\"sk-container\" hidden><div class=\"sk-item\"><div class=\"sk-estimator sk-toggleable\"><input class=\"sk-toggleable__control sk-hidden--visually\" id=\"sk-estimator-id-10\" type=\"checkbox\" checked><label for=\"sk-estimator-id-10\" class=\"sk-toggleable__label sk-toggleable__label-arrow\">Ridge</label><div class=\"sk-toggleable__content\"><pre>Ridge(alpha=2, max_iter=500)</pre></div></div></div></div></div>"
      ],
      "text/plain": [
       "Ridge(alpha=2, max_iter=500)"
      ]
     },
     "execution_count": 150,
     "metadata": {},
     "output_type": "execute_result"
    }
   ],
   "source": [
    "ridge = Ridge(alpha=2, max_iter=500)\n",
    "ridge.fit(X_train_sc, y_train)"
   ]
  },
  {
   "cell_type": "code",
   "execution_count": 151,
   "id": "0940158a",
   "metadata": {},
   "outputs": [
    {
     "name": "stdout",
     "output_type": "stream",
     "text": [
      "0.21961048396878657\n",
      "26.133328944152623\n"
     ]
    },
    {
     "name": "stderr",
     "output_type": "stream",
     "text": [
      "/home/dm/anaconda3/lib/python3.8/site-packages/sklearn/base.py:443: UserWarning: X has feature names, but Ridge was fitted without feature names\n",
      "  warnings.warn(\n"
     ]
    }
   ],
   "source": [
    "val_pred1 = ridge.predict(X_val_sc)\n",
    "train_pred1 = ridge.predict(X_train)\n",
    "\n",
    "print(r2_score(y_val, val_pred1))\n",
    "print(mean_absolute_error(y_val, val_pred1))"
   ]
  },
  {
   "cell_type": "code",
   "execution_count": 152,
   "id": "68e8633f",
   "metadata": {},
   "outputs": [
    {
     "name": "stdout",
     "output_type": "stream",
     "text": [
      "0.4807259129800713\n",
      "20.180957514877516\n"
     ]
    }
   ],
   "source": [
    "val_pred_ = (val_pred1+val_pred) / 2\n",
    "val_pred_\n",
    "\n",
    "print(r2_score(y_val, val_pred_))\n",
    "print(mean_absolute_error(y_val, val_pred_))"
   ]
  },
  {
   "cell_type": "code",
   "execution_count": 167,
   "id": "576610be",
   "metadata": {},
   "outputs": [],
   "source": [
    "train_pool = Pool(data=X_train, label=y_train)\n",
    "val_pool = Pool(data=X_val, label=y_val)"
   ]
  },
  {
   "cell_type": "code",
   "execution_count": 168,
   "id": "3d90d48c",
   "metadata": {},
   "outputs": [
    {
     "name": "stdout",
     "output_type": "stream",
     "text": [
      "Learning rate set to 0.029363\n",
      "0:\tlearn: 28.0875893\ttest: 37.9586084\tbest: 37.9586084 (0)\ttotal: 590us\tremaining: 590ms\n",
      "100:\tlearn: 10.9897616\ttest: 28.9383064\tbest: 28.9055932 (99)\ttotal: 39ms\tremaining: 347ms\n",
      "200:\tlearn: 4.1130694\ttest: 25.9533077\tbest: 25.9533077 (200)\ttotal: 64.9ms\tremaining: 258ms\n",
      "300:\tlearn: 1.6709360\ttest: 25.4746649\tbest: 25.4377791 (274)\ttotal: 92ms\tremaining: 214ms\n",
      "400:\tlearn: 0.6773410\ttest: 25.3082943\tbest: 25.3082943 (400)\ttotal: 118ms\tremaining: 177ms\n",
      "500:\tlearn: 0.2829200\ttest: 25.3054219\tbest: 25.2932438 (407)\ttotal: 145ms\tremaining: 144ms\n",
      "600:\tlearn: 0.1301646\ttest: 25.3228175\tbest: 25.2932438 (407)\ttotal: 170ms\tremaining: 113ms\n",
      "700:\tlearn: 0.0619712\ttest: 25.3096761\tbest: 25.2932438 (407)\ttotal: 199ms\tremaining: 84.8ms\n",
      "800:\tlearn: 0.0299271\ttest: 25.3128981\tbest: 25.2932438 (407)\ttotal: 226ms\tremaining: 56.1ms\n",
      "900:\tlearn: 0.0139171\ttest: 25.3095568\tbest: 25.2932438 (407)\ttotal: 256ms\tremaining: 28.1ms\n",
      "999:\tlearn: 0.0067728\ttest: 25.3093944\tbest: 25.2932438 (407)\ttotal: 283ms\tremaining: 0us\n",
      "\n",
      "bestTest = 25.29324378\n",
      "bestIteration = 407\n",
      "\n",
      "Shrink model to first 408 iterations.\n"
     ]
    },
    {
     "data": {
      "text/plain": [
       "<catboost.core.CatBoostRegressor at 0x7fc952490fd0>"
      ]
     },
     "execution_count": 168,
     "metadata": {},
     "output_type": "execute_result"
    }
   ],
   "source": [
    "model = CatBoostRegressor(verbose=100, depth=4)\n",
    "model.fit(train_pool, eval_set=val_pool)"
   ]
  },
  {
   "cell_type": "code",
   "execution_count": 169,
   "id": "079c2431",
   "metadata": {},
   "outputs": [
    {
     "name": "stdout",
     "output_type": "stream",
     "text": [
      "0.5236457839540327\n",
      "16.757605310248202\n"
     ]
    }
   ],
   "source": [
    "val_pred = model.predict(X_val)\n",
    "train_pred = model.predict(X_train)\n",
    "\n",
    "print(r2_score(y_val, val_pred))\n",
    "print(mean_absolute_error(y_val, val_pred))"
   ]
  },
  {
   "cell_type": "code",
   "execution_count": null,
   "id": "6daa47f9",
   "metadata": {},
   "outputs": [],
   "source": []
  }
 ],
 "metadata": {
  "kernelspec": {
   "display_name": "Python 3",
   "language": "python",
   "name": "python3"
  },
  "language_info": {
   "codemirror_mode": {
    "name": "ipython",
    "version": 3
   },
   "file_extension": ".py",
   "mimetype": "text/x-python",
   "name": "python",
   "nbconvert_exporter": "python",
   "pygments_lexer": "ipython3",
   "version": "3.8.10"
  }
 },
 "nbformat": 4,
 "nbformat_minor": 5
}
